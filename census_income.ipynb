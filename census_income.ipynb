{
  "nbformat": 4,
  "nbformat_minor": 0,
  "metadata": {
    "colab": {
      "name": "census_income.ipynb",
      "provenance": []
    },
    "kernelspec": {
      "name": "python3",
      "display_name": "Python 3"
    }
  },
  "cells": [
    {
      "cell_type": "code",
      "metadata": {
        "id": "pEx4C9rgzYjd",
        "colab_type": "code",
        "colab": {}
      },
      "source": [
        "import numpy as np\n",
        "import pandas as pd\n",
        "import matplotlib.pyplot as plt\n"
      ],
      "execution_count": 0,
      "outputs": []
    },
    {
      "cell_type": "code",
      "metadata": {
        "id": "lII8alM-1vDb",
        "colab_type": "code",
        "colab": {}
      },
      "source": [
        "from google.colab import drive"
      ],
      "execution_count": 0,
      "outputs": []
    },
    {
      "cell_type": "code",
      "metadata": {
        "id": "CAImjYxy14Q7",
        "colab_type": "code",
        "outputId": "57617cfa-aedb-4ca7-d3a9-fa99a2cce85f",
        "colab": {
          "base_uri": "https://localhost:8080/",
          "height": 34
        }
      },
      "source": [
        "drive.mount(\"/content/drive\")"
      ],
      "execution_count": 53,
      "outputs": [
        {
          "output_type": "stream",
          "text": [
            "Drive already mounted at /content/drive; to attempt to forcibly remount, call drive.mount(\"/content/drive\", force_remount=True).\n"
          ],
          "name": "stdout"
        }
      ]
    },
    {
      "cell_type": "code",
      "metadata": {
        "id": "H96Etvq02MD7",
        "colab_type": "code",
        "outputId": "5670dd1d-e971-4877-e54e-8ba496d91a80",
        "colab": {
          "base_uri": "https://localhost:8080/",
          "height": 34
        }
      },
      "source": [
        "%cd \"/content/drive/My Drive/data\""
      ],
      "execution_count": 211,
      "outputs": [
        {
          "output_type": "stream",
          "text": [
            "/content/drive/My Drive/data\n"
          ],
          "name": "stdout"
        }
      ]
    },
    {
      "cell_type": "code",
      "metadata": {
        "id": "fWNyN3P54XCM",
        "colab_type": "code",
        "colab": {}
      },
      "source": [
        "columns = [\"age\",\"workclass\",\"fnlwgt\",\"education\",\"education_num\",\"marital_status\",\"occupation\",\"relationship\",\"race\",\"sex\",\"capital_gain\",\"capital_loss\",\"hrs_per_week\",\"native_country\",\"income\"]"
      ],
      "execution_count": 0,
      "outputs": []
    },
    {
      "cell_type": "code",
      "metadata": {
        "id": "hrbkFRjA2Y7H",
        "colab_type": "code",
        "colab": {}
      },
      "source": [
        "df1 = pd.read_csv(\"adult.csv\",header = None,names = columns )\n",
        "df2 = pd.read_csv(\"adult_test.csv\",header=None,names=columns,skiprows=1)"
      ],
      "execution_count": 0,
      "outputs": []
    },
    {
      "cell_type": "code",
      "metadata": {
        "id": "pdeW1-Wi2lAl",
        "colab_type": "code",
        "outputId": "0b50664d-734c-408e-87e2-12937263238c",
        "colab": {
          "base_uri": "https://localhost:8080/",
          "height": 262
        }
      },
      "source": [
        "df1.head()"
      ],
      "execution_count": 214,
      "outputs": [
        {
          "output_type": "execute_result",
          "data": {
            "text/html": [
              "<div>\n",
              "<style scoped>\n",
              "    .dataframe tbody tr th:only-of-type {\n",
              "        vertical-align: middle;\n",
              "    }\n",
              "\n",
              "    .dataframe tbody tr th {\n",
              "        vertical-align: top;\n",
              "    }\n",
              "\n",
              "    .dataframe thead th {\n",
              "        text-align: right;\n",
              "    }\n",
              "</style>\n",
              "<table border=\"1\" class=\"dataframe\">\n",
              "  <thead>\n",
              "    <tr style=\"text-align: right;\">\n",
              "      <th></th>\n",
              "      <th>age</th>\n",
              "      <th>workclass</th>\n",
              "      <th>fnlwgt</th>\n",
              "      <th>education</th>\n",
              "      <th>education_num</th>\n",
              "      <th>marital_status</th>\n",
              "      <th>occupation</th>\n",
              "      <th>relationship</th>\n",
              "      <th>race</th>\n",
              "      <th>sex</th>\n",
              "      <th>capital_gain</th>\n",
              "      <th>capital_loss</th>\n",
              "      <th>hrs_per_week</th>\n",
              "      <th>native_country</th>\n",
              "      <th>income</th>\n",
              "    </tr>\n",
              "  </thead>\n",
              "  <tbody>\n",
              "    <tr>\n",
              "      <th>0</th>\n",
              "      <td>39</td>\n",
              "      <td>State-gov</td>\n",
              "      <td>77516</td>\n",
              "      <td>Bachelors</td>\n",
              "      <td>13</td>\n",
              "      <td>Never-married</td>\n",
              "      <td>Adm-clerical</td>\n",
              "      <td>Not-in-family</td>\n",
              "      <td>White</td>\n",
              "      <td>Male</td>\n",
              "      <td>2174</td>\n",
              "      <td>0</td>\n",
              "      <td>40</td>\n",
              "      <td>United-States</td>\n",
              "      <td>&lt;=50K</td>\n",
              "    </tr>\n",
              "    <tr>\n",
              "      <th>1</th>\n",
              "      <td>50</td>\n",
              "      <td>Self-emp-not-inc</td>\n",
              "      <td>83311</td>\n",
              "      <td>Bachelors</td>\n",
              "      <td>13</td>\n",
              "      <td>Married-civ-spouse</td>\n",
              "      <td>Exec-managerial</td>\n",
              "      <td>Husband</td>\n",
              "      <td>White</td>\n",
              "      <td>Male</td>\n",
              "      <td>0</td>\n",
              "      <td>0</td>\n",
              "      <td>13</td>\n",
              "      <td>United-States</td>\n",
              "      <td>&lt;=50K</td>\n",
              "    </tr>\n",
              "    <tr>\n",
              "      <th>2</th>\n",
              "      <td>38</td>\n",
              "      <td>Private</td>\n",
              "      <td>215646</td>\n",
              "      <td>HS-grad</td>\n",
              "      <td>9</td>\n",
              "      <td>Divorced</td>\n",
              "      <td>Handlers-cleaners</td>\n",
              "      <td>Not-in-family</td>\n",
              "      <td>White</td>\n",
              "      <td>Male</td>\n",
              "      <td>0</td>\n",
              "      <td>0</td>\n",
              "      <td>40</td>\n",
              "      <td>United-States</td>\n",
              "      <td>&lt;=50K</td>\n",
              "    </tr>\n",
              "    <tr>\n",
              "      <th>3</th>\n",
              "      <td>53</td>\n",
              "      <td>Private</td>\n",
              "      <td>234721</td>\n",
              "      <td>11th</td>\n",
              "      <td>7</td>\n",
              "      <td>Married-civ-spouse</td>\n",
              "      <td>Handlers-cleaners</td>\n",
              "      <td>Husband</td>\n",
              "      <td>Black</td>\n",
              "      <td>Male</td>\n",
              "      <td>0</td>\n",
              "      <td>0</td>\n",
              "      <td>40</td>\n",
              "      <td>United-States</td>\n",
              "      <td>&lt;=50K</td>\n",
              "    </tr>\n",
              "    <tr>\n",
              "      <th>4</th>\n",
              "      <td>28</td>\n",
              "      <td>Private</td>\n",
              "      <td>338409</td>\n",
              "      <td>Bachelors</td>\n",
              "      <td>13</td>\n",
              "      <td>Married-civ-spouse</td>\n",
              "      <td>Prof-specialty</td>\n",
              "      <td>Wife</td>\n",
              "      <td>Black</td>\n",
              "      <td>Female</td>\n",
              "      <td>0</td>\n",
              "      <td>0</td>\n",
              "      <td>40</td>\n",
              "      <td>Cuba</td>\n",
              "      <td>&lt;=50K</td>\n",
              "    </tr>\n",
              "  </tbody>\n",
              "</table>\n",
              "</div>"
            ],
            "text/plain": [
              "   age          workclass  fnlwgt  ... hrs_per_week  native_country  income\n",
              "0   39          State-gov   77516  ...           40   United-States   <=50K\n",
              "1   50   Self-emp-not-inc   83311  ...           13   United-States   <=50K\n",
              "2   38            Private  215646  ...           40   United-States   <=50K\n",
              "3   53            Private  234721  ...           40   United-States   <=50K\n",
              "4   28            Private  338409  ...           40            Cuba   <=50K\n",
              "\n",
              "[5 rows x 15 columns]"
            ]
          },
          "metadata": {
            "tags": []
          },
          "execution_count": 214
        }
      ]
    },
    {
      "cell_type": "code",
      "metadata": {
        "id": "lZmwEOjHOkug",
        "colab_type": "code",
        "outputId": "fc771336-65eb-4149-cc42-856daae72be8",
        "colab": {
          "base_uri": "https://localhost:8080/",
          "height": 404
        }
      },
      "source": [
        "df1.info()"
      ],
      "execution_count": 215,
      "outputs": [
        {
          "output_type": "stream",
          "text": [
            "<class 'pandas.core.frame.DataFrame'>\n",
            "RangeIndex: 32561 entries, 0 to 32560\n",
            "Data columns (total 15 columns):\n",
            " #   Column          Non-Null Count  Dtype \n",
            "---  ------          --------------  ----- \n",
            " 0   age             32561 non-null  int64 \n",
            " 1   workclass       32561 non-null  object\n",
            " 2   fnlwgt          32561 non-null  int64 \n",
            " 3   education       32561 non-null  object\n",
            " 4   education_num   32561 non-null  int64 \n",
            " 5   marital_status  32561 non-null  object\n",
            " 6   occupation      32561 non-null  object\n",
            " 7   relationship    32561 non-null  object\n",
            " 8   race            32561 non-null  object\n",
            " 9   sex             32561 non-null  object\n",
            " 10  capital_gain    32561 non-null  int64 \n",
            " 11  capital_loss    32561 non-null  int64 \n",
            " 12  hrs_per_week    32561 non-null  int64 \n",
            " 13  native_country  32561 non-null  object\n",
            " 14  income          32561 non-null  object\n",
            "dtypes: int64(6), object(9)\n",
            "memory usage: 3.7+ MB\n"
          ],
          "name": "stdout"
        }
      ]
    },
    {
      "cell_type": "code",
      "metadata": {
        "id": "BUTdS4VbOxTN",
        "colab_type": "code",
        "colab": {}
      },
      "source": [
        "categorical = [\"workclass\",\"education\",\"marital_status\",\"occupation\",\"relationship\",\"race\",\"sex\",\"native_country\"]"
      ],
      "execution_count": 0,
      "outputs": []
    },
    {
      "cell_type": "code",
      "metadata": {
        "id": "9-IFg7b32mjz",
        "colab_type": "code",
        "outputId": "37c11ac4-2015-4674-ef43-fd44a92e9d36",
        "colab": {
          "base_uri": "https://localhost:8080/",
          "height": 279
        }
      },
      "source": [
        "df2.head()"
      ],
      "execution_count": 217,
      "outputs": [
        {
          "output_type": "execute_result",
          "data": {
            "text/html": [
              "<div>\n",
              "<style scoped>\n",
              "    .dataframe tbody tr th:only-of-type {\n",
              "        vertical-align: middle;\n",
              "    }\n",
              "\n",
              "    .dataframe tbody tr th {\n",
              "        vertical-align: top;\n",
              "    }\n",
              "\n",
              "    .dataframe thead th {\n",
              "        text-align: right;\n",
              "    }\n",
              "</style>\n",
              "<table border=\"1\" class=\"dataframe\">\n",
              "  <thead>\n",
              "    <tr style=\"text-align: right;\">\n",
              "      <th></th>\n",
              "      <th>age</th>\n",
              "      <th>workclass</th>\n",
              "      <th>fnlwgt</th>\n",
              "      <th>education</th>\n",
              "      <th>education_num</th>\n",
              "      <th>marital_status</th>\n",
              "      <th>occupation</th>\n",
              "      <th>relationship</th>\n",
              "      <th>race</th>\n",
              "      <th>sex</th>\n",
              "      <th>capital_gain</th>\n",
              "      <th>capital_loss</th>\n",
              "      <th>hrs_per_week</th>\n",
              "      <th>native_country</th>\n",
              "      <th>income</th>\n",
              "    </tr>\n",
              "  </thead>\n",
              "  <tbody>\n",
              "    <tr>\n",
              "      <th>0</th>\n",
              "      <td>25</td>\n",
              "      <td>Private</td>\n",
              "      <td>226802</td>\n",
              "      <td>11th</td>\n",
              "      <td>7</td>\n",
              "      <td>Never-married</td>\n",
              "      <td>Machine-op-inspct</td>\n",
              "      <td>Own-child</td>\n",
              "      <td>Black</td>\n",
              "      <td>Male</td>\n",
              "      <td>0</td>\n",
              "      <td>0</td>\n",
              "      <td>40</td>\n",
              "      <td>United-States</td>\n",
              "      <td>&lt;=50K.</td>\n",
              "    </tr>\n",
              "    <tr>\n",
              "      <th>1</th>\n",
              "      <td>38</td>\n",
              "      <td>Private</td>\n",
              "      <td>89814</td>\n",
              "      <td>HS-grad</td>\n",
              "      <td>9</td>\n",
              "      <td>Married-civ-spouse</td>\n",
              "      <td>Farming-fishing</td>\n",
              "      <td>Husband</td>\n",
              "      <td>White</td>\n",
              "      <td>Male</td>\n",
              "      <td>0</td>\n",
              "      <td>0</td>\n",
              "      <td>50</td>\n",
              "      <td>United-States</td>\n",
              "      <td>&lt;=50K.</td>\n",
              "    </tr>\n",
              "    <tr>\n",
              "      <th>2</th>\n",
              "      <td>28</td>\n",
              "      <td>Local-gov</td>\n",
              "      <td>336951</td>\n",
              "      <td>Assoc-acdm</td>\n",
              "      <td>12</td>\n",
              "      <td>Married-civ-spouse</td>\n",
              "      <td>Protective-serv</td>\n",
              "      <td>Husband</td>\n",
              "      <td>White</td>\n",
              "      <td>Male</td>\n",
              "      <td>0</td>\n",
              "      <td>0</td>\n",
              "      <td>40</td>\n",
              "      <td>United-States</td>\n",
              "      <td>&gt;50K.</td>\n",
              "    </tr>\n",
              "    <tr>\n",
              "      <th>3</th>\n",
              "      <td>44</td>\n",
              "      <td>Private</td>\n",
              "      <td>160323</td>\n",
              "      <td>Some-college</td>\n",
              "      <td>10</td>\n",
              "      <td>Married-civ-spouse</td>\n",
              "      <td>Machine-op-inspct</td>\n",
              "      <td>Husband</td>\n",
              "      <td>Black</td>\n",
              "      <td>Male</td>\n",
              "      <td>7688</td>\n",
              "      <td>0</td>\n",
              "      <td>40</td>\n",
              "      <td>United-States</td>\n",
              "      <td>&gt;50K.</td>\n",
              "    </tr>\n",
              "    <tr>\n",
              "      <th>4</th>\n",
              "      <td>18</td>\n",
              "      <td>?</td>\n",
              "      <td>103497</td>\n",
              "      <td>Some-college</td>\n",
              "      <td>10</td>\n",
              "      <td>Never-married</td>\n",
              "      <td>?</td>\n",
              "      <td>Own-child</td>\n",
              "      <td>White</td>\n",
              "      <td>Female</td>\n",
              "      <td>0</td>\n",
              "      <td>0</td>\n",
              "      <td>30</td>\n",
              "      <td>United-States</td>\n",
              "      <td>&lt;=50K.</td>\n",
              "    </tr>\n",
              "  </tbody>\n",
              "</table>\n",
              "</div>"
            ],
            "text/plain": [
              "   age   workclass  fnlwgt  ... hrs_per_week  native_country   income\n",
              "0   25     Private  226802  ...           40   United-States   <=50K.\n",
              "1   38     Private   89814  ...           50   United-States   <=50K.\n",
              "2   28   Local-gov  336951  ...           40   United-States    >50K.\n",
              "3   44     Private  160323  ...           40   United-States    >50K.\n",
              "4   18           ?  103497  ...           30   United-States   <=50K.\n",
              "\n",
              "[5 rows x 15 columns]"
            ]
          },
          "metadata": {
            "tags": []
          },
          "execution_count": 217
        }
      ]
    },
    {
      "cell_type": "code",
      "metadata": {
        "id": "wg9yJU0xl0Rn",
        "colab_type": "code",
        "outputId": "e55794ca-6c5f-4b10-b72a-bcd89fdfe3ef",
        "colab": {
          "base_uri": "https://localhost:8080/",
          "height": 52
        }
      },
      "source": [
        "print(df1.shape)\n",
        "print(df2.shape)"
      ],
      "execution_count": 218,
      "outputs": [
        {
          "output_type": "stream",
          "text": [
            "(32561, 15)\n",
            "(16281, 15)\n"
          ],
          "name": "stdout"
        }
      ]
    },
    {
      "cell_type": "code",
      "metadata": {
        "id": "926zHAP44sUh",
        "colab_type": "code",
        "outputId": "7b7d8c58-6398-4206-9264-ccfd60d9b15c",
        "colab": {
          "base_uri": "https://localhost:8080/",
          "height": 298
        }
      },
      "source": [
        "# Checking for null values in dataset\n",
        "df1.apply(lambda x: x.isnull().sum(),axis =0)"
      ],
      "execution_count": 219,
      "outputs": [
        {
          "output_type": "execute_result",
          "data": {
            "text/plain": [
              "age               0\n",
              "workclass         0\n",
              "fnlwgt            0\n",
              "education         0\n",
              "education_num     0\n",
              "marital_status    0\n",
              "occupation        0\n",
              "relationship      0\n",
              "race              0\n",
              "sex               0\n",
              "capital_gain      0\n",
              "capital_loss      0\n",
              "hrs_per_week      0\n",
              "native_country    0\n",
              "income            0\n",
              "dtype: int64"
            ]
          },
          "metadata": {
            "tags": []
          },
          "execution_count": 219
        }
      ]
    },
    {
      "cell_type": "code",
      "metadata": {
        "id": "4N2T_uTT7EpU",
        "colab_type": "code",
        "colab": {}
      },
      "source": [
        "#df1.apply(lambda x: x.unique(),axis =0)\n",
        "#df1[\"workclass\"].unique()"
      ],
      "execution_count": 0,
      "outputs": []
    },
    {
      "cell_type": "code",
      "metadata": {
        "id": "6njueAcd7gYi",
        "colab_type": "code",
        "colab": {}
      },
      "source": [
        "# Function for checking unique values in dataset\n",
        "def unique_val(x):\n",
        "  return(df1[x].unique())"
      ],
      "execution_count": 0,
      "outputs": []
    },
    {
      "cell_type": "code",
      "metadata": {
        "id": "NtZNBnya9hWC",
        "colab_type": "code",
        "outputId": "c233f0a4-0544-4637-ecc6-ff545174aa83",
        "colab": {
          "base_uri": "https://localhost:8080/",
          "height": 914
        }
      },
      "source": [
        "for i in columns:\n",
        "  y= unique_val(i)\n",
        "  print(i,y)"
      ],
      "execution_count": 222,
      "outputs": [
        {
          "output_type": "stream",
          "text": [
            "age [39 50 38 53 28 37 49 52 31 42 30 23 32 40 34 25 43 54 35 59 56 19 20 45\n",
            " 22 48 21 24 57 44 41 29 18 47 46 36 79 27 67 33 76 17 55 61 70 64 71 68\n",
            " 66 51 58 26 60 90 75 65 77 62 63 80 72 74 69 73 81 78 88 82 83 84 85 86\n",
            " 87]\n",
            "workclass [' State-gov' ' Self-emp-not-inc' ' Private' ' Federal-gov' ' Local-gov'\n",
            " ' ?' ' Self-emp-inc' ' Without-pay' ' Never-worked']\n",
            "fnlwgt [ 77516  83311 215646 ...  34066  84661 257302]\n",
            "education [' Bachelors' ' HS-grad' ' 11th' ' Masters' ' 9th' ' Some-college'\n",
            " ' Assoc-acdm' ' Assoc-voc' ' 7th-8th' ' Doctorate' ' Prof-school'\n",
            " ' 5th-6th' ' 10th' ' 1st-4th' ' Preschool' ' 12th']\n",
            "education_num [13  9  7 14  5 10 12 11  4 16 15  3  6  2  1  8]\n",
            "marital_status [' Never-married' ' Married-civ-spouse' ' Divorced'\n",
            " ' Married-spouse-absent' ' Separated' ' Married-AF-spouse' ' Widowed']\n",
            "occupation [' Adm-clerical' ' Exec-managerial' ' Handlers-cleaners' ' Prof-specialty'\n",
            " ' Other-service' ' Sales' ' Craft-repair' ' Transport-moving'\n",
            " ' Farming-fishing' ' Machine-op-inspct' ' Tech-support' ' ?'\n",
            " ' Protective-serv' ' Armed-Forces' ' Priv-house-serv']\n",
            "relationship [' Not-in-family' ' Husband' ' Wife' ' Own-child' ' Unmarried'\n",
            " ' Other-relative']\n",
            "race [' White' ' Black' ' Asian-Pac-Islander' ' Amer-Indian-Eskimo' ' Other']\n",
            "sex [' Male' ' Female']\n",
            "capital_gain [ 2174     0 14084  5178  5013  2407 14344 15024  7688 34095  4064  4386\n",
            "  7298  1409  3674  1055  3464  2050  2176   594 20051  6849  4101  1111\n",
            "  8614  3411  2597 25236  4650  9386  2463  3103 10605  2964  3325  2580\n",
            "  3471  4865 99999  6514  1471  2329  2105  2885 25124 10520  2202  2961\n",
            " 27828  6767  2228  1506 13550  2635  5556  4787  3781  3137  3818  3942\n",
            "   914   401  2829  2977  4934  2062  2354  5455 15020  1424  3273 22040\n",
            "  4416  3908 10566   991  4931  1086  7430  6497   114  7896  2346  3418\n",
            "  3432  2907  1151  2414  2290 15831 41310  4508  2538  3456  6418  1848\n",
            "  3887  5721  9562  1455  2036  1831 11678  2936  2993  7443  6360  1797\n",
            "  1173  4687  6723  2009  6097  2653  1639 18481  7978  2387  5060]\n",
            "capital_loss [   0 2042 1408 1902 1573 1887 1719 1762 1564 2179 1816 1980 1977 1876\n",
            " 1340 2206 1741 1485 2339 2415 1380 1721 2051 2377 1669 2352 1672  653\n",
            " 2392 1504 2001 1590 1651 1628 1848 1740 2002 1579 2258 1602  419 2547\n",
            " 2174 2205 1726 2444 1138 2238  625  213 1539  880 1668 1092 1594 3004\n",
            " 2231 1844  810 2824 2559 2057 1974  974 2149 1825 1735 1258 2129 2603\n",
            " 2282  323 4356 2246 1617 1648 2489 3770 1755 3683 2267 2080 2457  155\n",
            " 3900 2201 1944 2467 2163 2754 2472 1411]\n",
            "hrs_per_week [40 13 16 45 50 80 30 35 60 20 52 44 15 25 38 43 55 48 58 32 70  2 22 56\n",
            " 41 28 36 24 46 42 12 65  1 10 34 75 98 33 54  8  6 64 19 18 72  5  9 47\n",
            " 37 21 26 14  4 59  7 99 53 39 62 57 78 90 66 11 49 84  3 17 68 27 85 31\n",
            " 51 77 63 23 87 88 73 89 97 94 29 96 67 82 86 91 81 76 92 61 74 95]\n",
            "native_country [' United-States' ' Cuba' ' Jamaica' ' India' ' ?' ' Mexico' ' South'\n",
            " ' Puerto-Rico' ' Honduras' ' England' ' Canada' ' Germany' ' Iran'\n",
            " ' Philippines' ' Italy' ' Poland' ' Columbia' ' Cambodia' ' Thailand'\n",
            " ' Ecuador' ' Laos' ' Taiwan' ' Haiti' ' Portugal' ' Dominican-Republic'\n",
            " ' El-Salvador' ' France' ' Guatemala' ' China' ' Japan' ' Yugoslavia'\n",
            " ' Peru' ' Outlying-US(Guam-USVI-etc)' ' Scotland' ' Trinadad&Tobago'\n",
            " ' Greece' ' Nicaragua' ' Vietnam' ' Hong' ' Ireland' ' Hungary'\n",
            " ' Holand-Netherlands']\n",
            "income [' <=50K' ' >50K']\n"
          ],
          "name": "stdout"
        }
      ]
    },
    {
      "cell_type": "code",
      "metadata": {
        "id": "YEkvvUB--IEY",
        "colab_type": "code",
        "colab": {}
      },
      "source": [
        "# These method didn't replace \" ?\" in original dataset, maybe because they return a copy \n",
        "#df1.apply(lambda x: x.replace(' ?','np.nan'))\n",
        "#df1.replace(to_replace =\" ?\", value =\"np.nan\") \n",
        "#df1.dropna(inplace=True)"
      ],
      "execution_count": 0,
      "outputs": []
    },
    {
      "cell_type": "code",
      "metadata": {
        "id": "GPsT35YVF1ls",
        "colab_type": "code",
        "outputId": "39cfe2da-6f51-4b6a-81d0-90e745f04e82",
        "colab": {
          "base_uri": "https://localhost:8080/",
          "height": 72
        }
      },
      "source": [
        "df1[df1==' ?'] = np.nan\n",
        "df2[df2==' ?'] = np.nan"
      ],
      "execution_count": 224,
      "outputs": [
        {
          "output_type": "stream",
          "text": [
            "/usr/local/lib/python3.6/dist-packages/pandas/core/ops/array_ops.py:253: FutureWarning: elementwise comparison failed; returning scalar instead, but in the future will perform elementwise comparison\n",
            "  res_values = method(rvalues)\n"
          ],
          "name": "stderr"
        }
      ]
    },
    {
      "cell_type": "code",
      "metadata": {
        "id": "p949WOBXJzHh",
        "colab_type": "code",
        "outputId": "f2bb96c1-9c59-4546-8eda-9cd8fda8361d",
        "colab": {
          "base_uri": "https://localhost:8080/",
          "height": 52
        }
      },
      "source": [
        "df1.dropna(inplace = True)\n",
        "df2.dropna(inplace = True)\n",
        "print(df1.shape)\n",
        "print(df2.shape)"
      ],
      "execution_count": 225,
      "outputs": [
        {
          "output_type": "stream",
          "text": [
            "(30162, 15)\n",
            "(15060, 15)\n"
          ],
          "name": "stdout"
        }
      ]
    },
    {
      "cell_type": "markdown",
      "metadata": {
        "id": "xX1DmgfKn1AT",
        "colab_type": "text"
      },
      "source": [
        "### **Trying some exploratory data analysis**"
      ]
    },
    {
      "cell_type": "code",
      "metadata": {
        "id": "FGUxr8ATnWqj",
        "colab_type": "code",
        "outputId": "798bce13-9ce5-46e6-e8f6-28a39f04eb8b",
        "colab": {
          "base_uri": "https://localhost:8080/",
          "height": 364
        }
      },
      "source": [
        "plt.hist(df1[\"age\"],edgecolor = 'black')\n",
        "plt.grid(axis='y', alpha=0.75)\n",
        "plt.xlabel('age',fontsize=15)\n",
        "plt.ylabel('distribution',fontsize=15)\n",
        "plt.xticks(fontsize=15)\n",
        "plt.yticks(fontsize=15)\n",
        "plt.title('Age Distribution Histogram',fontsize=15)\n",
        "plt.show()"
      ],
      "execution_count": 226,
      "outputs": [
        {
          "output_type": "display_data",
          "data": {
            "image/png": "[encoded data removed]",
            "text/plain": [
              "<Figure size 360x360 with 1 Axes>"
            ]
          },
          "metadata": {
            "tags": []
          }
        }
      ]
    },
    {
      "cell_type": "code",
      "metadata": {
        "id": "E_efS1cOuWKv",
        "colab_type": "code",
        "outputId": "1aef9089-88a2-4c8c-8530-d46ee55b7ca0",
        "colab": {
          "base_uri": "https://localhost:8080/",
          "height": 514
        }
      },
      "source": [
        "df1.hist(edgecolor = 'black',color='r')\n",
        "fig = plt.gcf()\n",
        "fig.set_size_inches(8,8)\n",
        "plt.show()"
      ],
      "execution_count": 227,
      "outputs": [
        {
          "output_type": "display_data",
          "data": {
            "image/png": "[encoded data removed]",
            "text/plain": [
              "<Figure size 576x576 with 6 Axes>"
            ]
          },
          "metadata": {
            "tags": []
          }
        }
      ]
    },
    {
      "cell_type": "code",
      "metadata": {
        "id": "lcpwsPDJ0UYT",
        "colab_type": "code",
        "colab": {}
      },
      "source": [
        "#plt.scatter(df1[\"education\"],df1[\"hrs_per_week\"])\n",
        "#plt.show()"
      ],
      "execution_count": 0,
      "outputs": []
    },
    {
      "cell_type": "code",
      "metadata": {
        "id": "mOs2Ojp5GIXZ",
        "colab_type": "code",
        "outputId": "3f46ce6f-542a-4e9a-bed5-0e92c982439f",
        "colab": {
          "base_uri": "https://localhost:8080/",
          "height": 606
        }
      },
      "source": [
        "import seaborn as sns\n",
        "sns.set(rc={'figure.figsize':(8,8)})\n",
        "sns.barplot(df1[\"education\"],df1[\"hrs_per_week\"],color='r')\n",
        "plt.xticks(rotation=90)"
      ],
      "execution_count": 229,
      "outputs": [
        {
          "output_type": "execute_result",
          "data": {
            "text/plain": [
              "(array([ 0,  1,  2,  3,  4,  5,  6,  7,  8,  9, 10, 11, 12, 13, 14, 15]),\n",
              " <a list of 16 Text major ticklabel objects>)"
            ]
          },
          "metadata": {
            "tags": []
          },
          "execution_count": 229
        },
        {
          "output_type": "display_data",
          "data": {
            "image/png": "[encoded data removed]",
            "text/plain": [
              "<Figure size 576x576 with 1 Axes>"
            ]
          },
          "metadata": {
            "tags": []
          }
        }
      ]
    },
    {
      "cell_type": "code",
      "metadata": {
        "id": "n2yXHZpNH0PL",
        "colab_type": "code",
        "outputId": "a420b41f-4e52-4abf-a946-6b30b20f99e3",
        "colab": {
          "base_uri": "https://localhost:8080/",
          "height": 225
        }
      },
      "source": [
        "#Checking non-linear correlation between numeric features\n",
        "df1.corr(method=\"spearman\")"
      ],
      "execution_count": 230,
      "outputs": [
        {
          "output_type": "execute_result",
          "data": {
            "text/html": [
              "<div>\n",
              "<style scoped>\n",
              "    .dataframe tbody tr th:only-of-type {\n",
              "        vertical-align: middle;\n",
              "    }\n",
              "\n",
              "    .dataframe tbody tr th {\n",
              "        vertical-align: top;\n",
              "    }\n",
              "\n",
              "    .dataframe thead th {\n",
              "        text-align: right;\n",
              "    }\n",
              "</style>\n",
              "<table border=\"1\" class=\"dataframe\">\n",
              "  <thead>\n",
              "    <tr style=\"text-align: right;\">\n",
              "      <th></th>\n",
              "      <th>age</th>\n",
              "      <th>fnlwgt</th>\n",
              "      <th>education_num</th>\n",
              "      <th>capital_gain</th>\n",
              "      <th>capital_loss</th>\n",
              "      <th>hrs_per_week</th>\n",
              "    </tr>\n",
              "  </thead>\n",
              "  <tbody>\n",
              "    <tr>\n",
              "      <th>age</th>\n",
              "      <td>1.000000</td>\n",
              "      <td>-0.078438</td>\n",
              "      <td>0.070416</td>\n",
              "      <td>0.121936</td>\n",
              "      <td>0.061171</td>\n",
              "      <td>0.155916</td>\n",
              "    </tr>\n",
              "    <tr>\n",
              "      <th>fnlwgt</th>\n",
              "      <td>-0.078438</td>\n",
              "      <td>1.000000</td>\n",
              "      <td>-0.035712</td>\n",
              "      <td>-0.007336</td>\n",
              "      <td>-0.007970</td>\n",
              "      <td>-0.025688</td>\n",
              "    </tr>\n",
              "    <tr>\n",
              "      <th>education_num</th>\n",
              "      <td>0.070416</td>\n",
              "      <td>-0.035712</td>\n",
              "      <td>1.000000</td>\n",
              "      <td>0.120848</td>\n",
              "      <td>0.074593</td>\n",
              "      <td>0.168448</td>\n",
              "    </tr>\n",
              "    <tr>\n",
              "      <th>capital_gain</th>\n",
              "      <td>0.121936</td>\n",
              "      <td>-0.007336</td>\n",
              "      <td>0.120848</td>\n",
              "      <td>1.000000</td>\n",
              "      <td>-0.067435</td>\n",
              "      <td>0.095189</td>\n",
              "    </tr>\n",
              "    <tr>\n",
              "      <th>capital_loss</th>\n",
              "      <td>0.061171</td>\n",
              "      <td>-0.007970</td>\n",
              "      <td>0.074593</td>\n",
              "      <td>-0.067435</td>\n",
              "      <td>1.000000</td>\n",
              "      <td>0.058599</td>\n",
              "    </tr>\n",
              "    <tr>\n",
              "      <th>hrs_per_week</th>\n",
              "      <td>0.155916</td>\n",
              "      <td>-0.025688</td>\n",
              "      <td>0.168448</td>\n",
              "      <td>0.095189</td>\n",
              "      <td>0.058599</td>\n",
              "      <td>1.000000</td>\n",
              "    </tr>\n",
              "  </tbody>\n",
              "</table>\n",
              "</div>"
            ],
            "text/plain": [
              "                    age    fnlwgt  ...  capital_loss  hrs_per_week\n",
              "age            1.000000 -0.078438  ...      0.061171      0.155916\n",
              "fnlwgt        -0.078438  1.000000  ...     -0.007970     -0.025688\n",
              "education_num  0.070416 -0.035712  ...      0.074593      0.168448\n",
              "capital_gain   0.121936 -0.007336  ...     -0.067435      0.095189\n",
              "capital_loss   0.061171 -0.007970  ...      1.000000      0.058599\n",
              "hrs_per_week   0.155916 -0.025688  ...      0.058599      1.000000\n",
              "\n",
              "[6 rows x 6 columns]"
            ]
          },
          "metadata": {
            "tags": []
          },
          "execution_count": 230
        }
      ]
    },
    {
      "cell_type": "code",
      "metadata": {
        "id": "t5lg-Pp4Lnr9",
        "colab_type": "code",
        "outputId": "44c3fc33-e43e-4eae-9e0a-d28be62b68aa",
        "colab": {
          "base_uri": "https://localhost:8080/",
          "height": 357
        }
      },
      "source": [
        "sns.set(rc={'figure.figsize':(5,5)})\n",
        "sns.barplot(df1[\"hrs_per_week\"],df1[\"income\"],color='r')\n"
      ],
      "execution_count": 231,
      "outputs": [
        {
          "output_type": "execute_result",
          "data": {
            "text/plain": [
              "<matplotlib.axes._subplots.AxesSubplot at 0x7f816e8a14a8>"
            ]
          },
          "metadata": {
            "tags": []
          },
          "execution_count": 231
        },
        {
          "output_type": "display_data",
          "data": {
            "image/png": "[encoded data removed]",
            "text/plain": [
              "<Figure size 360x360 with 1 Axes>"
            ]
          },
          "metadata": {
            "tags": []
          }
        }
      ]
    },
    {
      "cell_type": "code",
      "metadata": {
        "id": "4lDslFELr0r7",
        "colab_type": "code",
        "colab": {
          "base_uri": "https://localhost:8080/",
          "height": 322
        },
        "outputId": "0f61c1d8-8dc5-4abb-ec0b-b4b8891a6882"
      },
      "source": [
        "#sns.set(rc={'figure.figsize':(5,5)})\n",
        "plt.scatter(df1[\"education_num\"],df1[\"income\"],color='r')\n",
        "plt.show()"
      ],
      "execution_count": 232,
      "outputs": [
        {
          "output_type": "display_data",
          "data": {
            "image/png": "[encoded data removed]",
            "text/plain": [
              "<Figure size 360x360 with 1 Axes>"
            ]
          },
          "metadata": {
            "tags": []
          }
        }
      ]
    },
    {
      "cell_type": "code",
      "metadata": {
        "id": "TNt8XogtPaPx",
        "colab_type": "code",
        "outputId": "905cc004-1719-497a-e3a6-7f694f1ad0f2",
        "colab": {
          "base_uri": "https://localhost:8080/",
          "height": 225
        }
      },
      "source": [
        "pd.crosstab(df1.race,df1.income)"
      ],
      "execution_count": 233,
      "outputs": [
        {
          "output_type": "execute_result",
          "data": {
            "text/html": [
              "<div>\n",
              "<style scoped>\n",
              "    .dataframe tbody tr th:only-of-type {\n",
              "        vertical-align: middle;\n",
              "    }\n",
              "\n",
              "    .dataframe tbody tr th {\n",
              "        vertical-align: top;\n",
              "    }\n",
              "\n",
              "    .dataframe thead th {\n",
              "        text-align: right;\n",
              "    }\n",
              "</style>\n",
              "<table border=\"1\" class=\"dataframe\">\n",
              "  <thead>\n",
              "    <tr style=\"text-align: right;\">\n",
              "      <th>income</th>\n",
              "      <th>&lt;=50K</th>\n",
              "      <th>&gt;50K</th>\n",
              "    </tr>\n",
              "    <tr>\n",
              "      <th>race</th>\n",
              "      <th></th>\n",
              "      <th></th>\n",
              "    </tr>\n",
              "  </thead>\n",
              "  <tbody>\n",
              "    <tr>\n",
              "      <th>Amer-Indian-Eskimo</th>\n",
              "      <td>252</td>\n",
              "      <td>34</td>\n",
              "    </tr>\n",
              "    <tr>\n",
              "      <th>Asian-Pac-Islander</th>\n",
              "      <td>647</td>\n",
              "      <td>248</td>\n",
              "    </tr>\n",
              "    <tr>\n",
              "      <th>Black</th>\n",
              "      <td>2451</td>\n",
              "      <td>366</td>\n",
              "    </tr>\n",
              "    <tr>\n",
              "      <th>Other</th>\n",
              "      <td>210</td>\n",
              "      <td>21</td>\n",
              "    </tr>\n",
              "    <tr>\n",
              "      <th>White</th>\n",
              "      <td>19094</td>\n",
              "      <td>6839</td>\n",
              "    </tr>\n",
              "  </tbody>\n",
              "</table>\n",
              "</div>"
            ],
            "text/plain": [
              "income                <=50K   >50K\n",
              "race                              \n",
              " Amer-Indian-Eskimo     252     34\n",
              " Asian-Pac-Islander     647    248\n",
              " Black                 2451    366\n",
              " Other                  210     21\n",
              " White                19094   6839"
            ]
          },
          "metadata": {
            "tags": []
          },
          "execution_count": 233
        }
      ]
    },
    {
      "cell_type": "code",
      "metadata": {
        "id": "BSZ_ldDMNLgS",
        "colab_type": "code",
        "colab": {}
      },
      "source": [
        "from sklearn.preprocessing import LabelEncoder"
      ],
      "execution_count": 0,
      "outputs": []
    },
    {
      "cell_type": "code",
      "metadata": {
        "id": "joRvDw9pS7vD",
        "colab_type": "code",
        "colab": {}
      },
      "source": [
        "df = pd.concat([df1,df2],ignore_index=True)"
      ],
      "execution_count": 0,
      "outputs": []
    },
    {
      "cell_type": "markdown",
      "metadata": {
        "id": "Sd5GuyHLRuWs",
        "colab_type": "text"
      },
      "source": [
        "### **Changing all categorical values in numeric**"
      ]
    },
    {
      "cell_type": "code",
      "metadata": {
        "id": "lf2LLVeVNqKH",
        "colab_type": "code",
        "colab": {}
      },
      "source": [
        "le = LabelEncoder()\n",
        "def label_encoder(i):\n",
        "  le.fit(df[i])\n",
        "  return(le.transform(df[i]))\n",
        "for i in categorical:\n",
        "  df[i] = label_encoder(i)  "
      ],
      "execution_count": 0,
      "outputs": []
    },
    {
      "cell_type": "code",
      "metadata": {
        "id": "XkVE00PzfGYz",
        "colab_type": "code",
        "colab": {}
      },
      "source": [
        "#df[\"income\"] = df[\"income\"].map({'<=50K': 0, '>50K':1})\n",
        "df.replace({'income' : { ' <=50K' : 0, ' <=50K.' : 0, ' >50K' : 1, ' >50K.' : 1}},inplace = True)"
      ],
      "execution_count": 0,
      "outputs": []
    },
    {
      "cell_type": "code",
      "metadata": {
        "id": "1z3eHwmcZ1gG",
        "colab_type": "code",
        "colab": {
          "base_uri": "https://localhost:8080/",
          "height": 34
        },
        "outputId": "b0f452ea-8bfc-4a6a-8308-5f6a652eb8ba"
      },
      "source": [
        "df[\"income\"].unique()"
      ],
      "execution_count": 238,
      "outputs": [
        {
          "output_type": "execute_result",
          "data": {
            "text/plain": [
              "array([0, 1])"
            ]
          },
          "metadata": {
            "tags": []
          },
          "execution_count": 238
        }
      ]
    },
    {
      "cell_type": "code",
      "metadata": {
        "id": "SzX9mQ-IwEg1",
        "colab_type": "code",
        "colab": {}
      },
      "source": [
        "from sklearn.utils import shuffle\n",
        "df = shuffle(df)"
      ],
      "execution_count": 0,
      "outputs": []
    },
    {
      "cell_type": "code",
      "metadata": {
        "id": "y0f3ydrJP28f",
        "colab_type": "code",
        "colab": {}
      },
      "source": [
        "#Dropping columns as capital gain and capital loss has mostly 0 and education num has random values\n",
        "df3 = df.drop([\"capital_gain\",\"capital_loss\",\"education_num\"],axis = 1)"
      ],
      "execution_count": 0,
      "outputs": []
    },
    {
      "cell_type": "code",
      "metadata": {
        "id": "rZNyiAXxU4Iy",
        "colab_type": "code",
        "colab": {}
      },
      "source": [
        "# split data into train and test \n",
        "x_train = df3.iloc[0:32561,0:11]\n",
        "y_train = df3.iloc[0:32561,11]\n",
        "x_test = df3.iloc[32561: ,0:11]\n",
        "y_test = df3.iloc[32561: ,11]"
      ],
      "execution_count": 0,
      "outputs": []
    },
    {
      "cell_type": "code",
      "metadata": {
        "id": "U9bPupu8V1Rf",
        "colab_type": "code",
        "colab": {}
      },
      "source": [
        "from sklearn.linear_model import LogisticRegression\n",
        "from sklearn.ensemble import RandomForestClassifier\n",
        "from sklearn.tree import DecisionTreeClassifier\n",
        "from sklearn.naive_bayes import GaussianNB\n",
        "from xgboost import XGBClassifier\n",
        "from sklearn.metrics import accuracy_score"
      ],
      "execution_count": 0,
      "outputs": []
    },
    {
      "cell_type": "markdown",
      "metadata": {
        "id": "UxQU_XZO0zTD",
        "colab_type": "text"
      },
      "source": [
        "### **MODELS FOR PREDICTION**"
      ]
    },
    {
      "cell_type": "code",
      "metadata": {
        "id": "uxWKx9l6tMXm",
        "colab_type": "code",
        "colab": {}
      },
      "source": [
        "model1 = LogisticRegression()\n",
        "model2 = RandomForestClassifier(n_estimators=200)\n",
        "model3 = GaussianNB()\n",
        "model4 =  XGBClassifier()\n"
      ],
      "execution_count": 0,
      "outputs": []
    },
    {
      "cell_type": "code",
      "metadata": {
        "id": "C5WCWHBdsy23",
        "colab_type": "code",
        "colab": {}
      },
      "source": [
        "def model(x_train,y_train,x_test):\n",
        "  y_pred1 = model1.fit(x_train,y_train).predict(x_test)\n",
        "  acc1 = accuracy_score(y_test,y_pred1)\n",
        "  print(\"Accuracy for logistic Regressor is: \", acc1)\n",
        "  y_pred2 = model2.fit(x_train,y_train).predict(x_test)\n",
        "  acc2 = accuracy_score(y_test,y_pred2)\n",
        "  print(\"Accuraccy for Random forest Classifier is: \", acc2)\n",
        "  y_pred3 = model3.fit(x_train,y_train).predict(x_test)\n",
        "  acc3 = accuracy_score(y_test,y_pred3)\n",
        "  print(\"Accuracy for Naive Bayes is: \", acc3)\n",
        "  y_pred4 = model4.fit(x_train,y_train).predict(x_test)\n",
        "  acc4 = accuracy_score(y_test,y_pred4)\n",
        "  print(\"Accuracy for XGBoost Classifier is: \", acc4)"
      ],
      "execution_count": 0,
      "outputs": []
    },
    {
      "cell_type": "code",
      "metadata": {
        "id": "-t_62T2dV3-6",
        "colab_type": "code",
        "outputId": "2fdaa51b-ff07-4334-8a0b-54f7a91f118d",
        "colab": {
          "base_uri": "https://localhost:8080/",
          "height": 87
        }
      },
      "source": [
        "model(x_train,y_train,x_test)"
      ],
      "execution_count": 245,
      "outputs": [
        {
          "output_type": "stream",
          "text": [
            "Accuracy for logistic Regressor is:  0.7488350051338757\n",
            "Accuraccy for Random forest Classifier is:  0.8214990916989179\n",
            "Accuracy for Naive Bayes is:  0.7617881683911223\n",
            "Accuracy for XGBoost Classifier is:  0.8327146354948266\n"
          ],
          "name": "stdout"
        }
      ]
    },
    {
      "cell_type": "markdown",
      "metadata": {
        "id": "AB_z-n9iyo5V",
        "colab_type": "text"
      },
      "source": [
        "### **USING PRINCIPAL COMPONENT ANALYSIS**"
      ]
    },
    {
      "cell_type": "code",
      "metadata": {
        "id": "qYXIGWhEynVN",
        "colab_type": "code",
        "colab": {}
      },
      "source": [
        "X = df.iloc[ : ,0:14]\n",
        "Y = df.iloc[ : ,14]"
      ],
      "execution_count": 0,
      "outputs": []
    },
    {
      "cell_type": "code",
      "metadata": {
        "id": "XydPAI8axq7P",
        "colab_type": "code",
        "colab": {}
      },
      "source": [
        "from sklearn.preprocessing import StandardScaler\n",
        "X = StandardScaler().fit_transform(X)"
      ],
      "execution_count": 0,
      "outputs": []
    },
    {
      "cell_type": "code",
      "metadata": {
        "id": "v4Hb8FwqZJyO",
        "colab_type": "code",
        "colab": {}
      },
      "source": [
        "from sklearn.decomposition import PCA\n",
        "pca = PCA(n_components=3)\n",
        "principalComponents = pca.fit_transform(X)"
      ],
      "execution_count": 0,
      "outputs": []
    },
    {
      "cell_type": "code",
      "metadata": {
        "id": "J5l0Zy9bz1Zf",
        "colab_type": "code",
        "colab": {}
      },
      "source": [
        "x_train = X[0:32561]\n",
        "x_test = X[32561:]\n",
        "y_train = Y[0:32561]\n",
        "y_test = Y[32561:]"
      ],
      "execution_count": 0,
      "outputs": []
    },
    {
      "cell_type": "code",
      "metadata": {
        "id": "wSjw-AAWaCEv",
        "colab_type": "code",
        "outputId": "429c4753-c305-4fdc-cd9b-44f0a7088234",
        "colab": {
          "base_uri": "https://localhost:8080/",
          "height": 87
        }
      },
      "source": [
        "model(x_train,y_train,x_test)"
      ],
      "execution_count": 250,
      "outputs": [
        {
          "output_type": "stream",
          "text": [
            "Accuracy for logistic Regressor is:  0.8155753889898112\n",
            "Accuraccy for Random forest Classifier is:  0.8518284495695443\n",
            "Accuracy for Naive Bayes is:  0.7903799068004107\n",
            "Accuracy for XGBoost Classifier is:  0.8574362214674986\n"
          ],
          "name": "stdout"
        }
      ]
    },
    {
      "cell_type": "code",
      "metadata": {
        "id": "8Az2CG77adoT",
        "colab_type": "code",
        "colab": {}
      },
      "source": [
        ""
      ],
      "execution_count": 0,
      "outputs": []
    }
  ]
}